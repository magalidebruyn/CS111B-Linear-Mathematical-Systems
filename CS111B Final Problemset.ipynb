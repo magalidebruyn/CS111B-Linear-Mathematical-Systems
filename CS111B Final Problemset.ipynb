{
 "cells": [
  {
   "cell_type": "markdown",
   "metadata": {},
   "source": [
    "# CS111B Final Problemset "
   ]
  },
  {
   "cell_type": "code",
   "execution_count": 63,
   "metadata": {},
   "outputs": [],
   "source": [
    "def print_eigenvectors(eigenv):\n",
    "    for v in eigenv:\n",
    "        print(\"\\n\")\n",
    "        show(v)"
   ]
  },
  {
   "cell_type": "markdown",
   "metadata": {},
   "source": [
    "## Novel Problems"
   ]
  },
  {
   "cell_type": "markdown",
   "metadata": {},
   "source": [
    "### 2. Page Rank"
   ]
  },
  {
   "cell_type": "markdown",
   "metadata": {},
   "source": [
    "__2.b__"
   ]
  },
  {
   "cell_type": "code",
   "execution_count": 64,
   "metadata": {},
   "outputs": [
    {
     "data": {
      "text/html": [
       "<html><script type=\"math/tex; mode=display\">\\newcommand{\\Bold}[1]{\\mathbf{#1}}\\left(\\begin{array}{rrrrrr}\n",
       "0 & \\frac{1}{3} & \\frac{1}{3} & 0 & 0 & 0 \\\\\n",
       "\\frac{1}{2} & 0 & 0 & 0 & 0 & 0 \\\\\n",
       "0 & 0 & 0 & 0 & 0 & 0 \\\\\n",
       "\\frac{1}{2} & \\frac{1}{3} & \\frac{1}{3} & 0 & 1 & 0 \\\\\n",
       "0 & \\frac{1}{3} & 0 & 0 & 0 & 1 \\\\\n",
       "0 & 0 & \\frac{1}{3} & 1 & 0 & 0\n",
       "\\end{array}\\right)</script></html>"
      ],
      "text/plain": [
       "[  0 1/3 1/3   0   0   0]\n",
       "[1/2   0   0   0   0   0]\n",
       "[  0   0   0   0   0   0]\n",
       "[1/2 1/3 1/3   0   1   0]\n",
       "[  0 1/3   0   0   0   1]\n",
       "[  0   0 1/3   1   0   0]"
      ]
     },
     "metadata": {},
     "output_type": "display_data"
    }
   ],
   "source": [
    "M=matrix([[0,1/3,1/3,0,0,0],[1/2,0,0,0,0,0],[0,0,0,0,0,0],[1/2,1/3,1/3,0,1,0],[0,1/3,0,0,0,1],[0,0,1/3,1,0,0]])\n",
    "show(M)"
   ]
  },
  {
   "cell_type": "code",
   "execution_count": 65,
   "metadata": {},
   "outputs": [
    {
     "data": {
      "text/html": [
       "<html><script type=\"math/tex; mode=display\">\\newcommand{\\Bold}[1]{\\mathbf{#1}}\\left(\\frac{1}{6},\\,\\frac{1}{6},\\,\\frac{1}{6},\\,\\frac{1}{6},\\,\\frac{1}{6},\\,\\frac{1}{6}\\right)</script></html>"
      ],
      "text/plain": [
       "(1/6, 1/6, 1/6, 1/6, 1/6, 1/6)"
      ]
     },
     "metadata": {},
     "output_type": "display_data"
    }
   ],
   "source": [
    "vo=vector([1/6,1/6,1/6,1/6,1/6,1/6])\n",
    "show(vo)"
   ]
  },
  {
   "cell_type": "code",
   "execution_count": 66,
   "metadata": {},
   "outputs": [
    {
     "data": {
      "text/html": [
       "<html><script type=\"math/tex; mode=display\">\\newcommand{\\Bold}[1]{\\mathbf{#1}}\\left(\\frac{1}{9},\\,\\frac{1}{12},\\,0,\\,\\frac{13}{36},\\,\\frac{2}{9},\\,\\frac{2}{9}\\right)</script></html>"
      ],
      "text/plain": [
       "(1/9, 1/12, 0, 13/36, 2/9, 2/9)"
      ]
     },
     "metadata": {},
     "output_type": "display_data"
    },
    {
     "data": {
      "text/html": [
       "<html><script type=\"math/tex; mode=display\">\\newcommand{\\Bold}[1]{\\mathbf{#1}}\\left(0.111111111111111,\\,0.0833333333333333,\\,0.000000000000000,\\,0.361111111111111,\\,0.222222222222222,\\,0.222222222222222\\right)</script></html>"
      ],
      "text/plain": [
       "(0.111111111111111, 0.0833333333333333, 0.000000000000000, 0.361111111111111, 0.222222222222222, 0.222222222222222)"
      ]
     },
     "metadata": {},
     "output_type": "display_data"
    }
   ],
   "source": [
    "v1=M*vo\n",
    "show(v1)\n",
    "show(v1.n())"
   ]
  },
  {
   "cell_type": "code",
   "execution_count": 67,
   "metadata": {},
   "outputs": [
    {
     "data": {
      "text/html": [
       "<html><script type=\"math/tex; mode=display\">\\newcommand{\\Bold}[1]{\\mathbf{#1}}\\left(\\frac{1}{36},\\,\\frac{1}{18},\\,0,\\,\\frac{11}{36},\\,\\frac{1}{4},\\,\\frac{13}{36}\\right)</script></html>"
      ],
      "text/plain": [
       "(1/36, 1/18, 0, 11/36, 1/4, 13/36)"
      ]
     },
     "metadata": {},
     "output_type": "display_data"
    },
    {
     "data": {
      "text/html": [
       "<html><script type=\"math/tex; mode=display\">\\newcommand{\\Bold}[1]{\\mathbf{#1}}\\left(0.0277777777777778,\\,0.0555555555555556,\\,0.000000000000000,\\,0.305555555555556,\\,0.250000000000000,\\,0.361111111111111\\right)</script></html>"
      ],
      "text/plain": [
       "(0.0277777777777778, 0.0555555555555556, 0.000000000000000, 0.305555555555556, 0.250000000000000, 0.361111111111111)"
      ]
     },
     "metadata": {},
     "output_type": "display_data"
    }
   ],
   "source": [
    "v2=(M**2)*vo\n",
    "show(v2)\n",
    "show(v2.n())"
   ]
  },
  {
   "cell_type": "code",
   "execution_count": 68,
   "metadata": {},
   "outputs": [
    {
     "data": {
      "text/html": [
       "<html><script type=\"math/tex; mode=display\">\\newcommand{\\Bold}[1]{\\mathbf{#1}}\\left(\\frac{1}{54},\\,\\frac{1}{72},\\,0,\\,\\frac{61}{216},\\,\\frac{41}{108},\\,\\frac{11}{36}\\right)</script></html>"
      ],
      "text/plain": [
       "(1/54, 1/72, 0, 61/216, 41/108, 11/36)"
      ]
     },
     "metadata": {},
     "output_type": "display_data"
    },
    {
     "data": {
      "text/html": [
       "<html><script type=\"math/tex; mode=display\">\\newcommand{\\Bold}[1]{\\mathbf{#1}}\\left(0.0185185185185185,\\,0.0138888888888889,\\,0.000000000000000,\\,0.282407407407407,\\,0.379629629629630,\\,0.305555555555556\\right)</script></html>"
      ],
      "text/plain": [
       "(0.0185185185185185, 0.0138888888888889, 0.000000000000000, 0.282407407407407, 0.379629629629630, 0.305555555555556)"
      ]
     },
     "metadata": {},
     "output_type": "display_data"
    }
   ],
   "source": [
    "v3=(M**3)*vo\n",
    "show(v3)\n",
    "show(v3.n())"
   ]
  },
  {
   "cell_type": "code",
   "execution_count": 69,
   "metadata": {},
   "outputs": [
    {
     "data": {
      "text/html": [
       "<html><script type=\"math/tex; mode=display\">\\newcommand{\\Bold}[1]{\\mathbf{#1}}\\left(\\frac{1}{46656},\\,\\frac{1}{23328},\\,0,\\,\\frac{18445}{46656},\\,\\frac{14767}{46656},\\,\\frac{13441}{46656}\\right)</script></html>"
      ],
      "text/plain": [
       "(1/46656, 1/23328, 0, 18445/46656, 14767/46656, 13441/46656)"
      ]
     },
     "metadata": {},
     "output_type": "display_data"
    },
    {
     "data": {
      "text/html": [
       "<html><script type=\"math/tex; mode=display\">\\newcommand{\\Bold}[1]{\\mathbf{#1}}\\left(0.0000214334705075446,\\,0.0000428669410150892,\\,0.000000000000000,\\,0.395340363511660,\\,0.316508058984911,\\,0.288087277091907\\right)</script></html>"
      ],
      "text/plain": [
       "(0.0000214334705075446, 0.0000428669410150892, 0.000000000000000, 0.395340363511660, 0.316508058984911, 0.288087277091907)"
      ]
     },
     "metadata": {},
     "output_type": "display_data"
    }
   ],
   "source": [
    "v4=(M**10)*vo\n",
    "show(v4)\n",
    "show(v4.n())"
   ]
  },
  {
   "cell_type": "code",
   "execution_count": 70,
   "metadata": {},
   "outputs": [
    {
     "data": {
      "text/plain": [
       "0.0000214334705075446"
      ]
     },
     "execution_count": 70,
     "metadata": {},
     "output_type": "execute_result"
    }
   ],
   "source": [
    "(1/46656).n()"
   ]
  },
  {
   "cell_type": "code",
   "execution_count": 71,
   "metadata": {},
   "outputs": [
    {
     "data": {
      "text/plain": [
       "0.0000428669410150892"
      ]
     },
     "execution_count": 71,
     "metadata": {},
     "output_type": "execute_result"
    }
   ],
   "source": [
    "(1/23328).n()"
   ]
  },
  {
   "cell_type": "code",
   "execution_count": 72,
   "metadata": {},
   "outputs": [
    {
     "data": {
      "text/plain": [
       "0.395340363511660"
      ]
     },
     "execution_count": 72,
     "metadata": {},
     "output_type": "execute_result"
    }
   ],
   "source": [
    "(18445/46656).n()"
   ]
  },
  {
   "cell_type": "code",
   "execution_count": 73,
   "metadata": {},
   "outputs": [
    {
     "data": {
      "text/plain": [
       "0.316508058984911"
      ]
     },
     "execution_count": 73,
     "metadata": {},
     "output_type": "execute_result"
    }
   ],
   "source": [
    "(14767/46656).n()"
   ]
  },
  {
   "cell_type": "code",
   "execution_count": 74,
   "metadata": {},
   "outputs": [
    {
     "data": {
      "text/plain": [
       "0.288087277091907"
      ]
     },
     "execution_count": 74,
     "metadata": {},
     "output_type": "execute_result"
    }
   ],
   "source": [
    "(13441/46656).n()"
   ]
  },
  {
   "cell_type": "markdown",
   "metadata": {},
   "source": [
    "__2.c__"
   ]
  },
  {
   "cell_type": "code",
   "execution_count": 75,
   "metadata": {
    "scrolled": true
   },
   "outputs": [
    {
     "name": "stdout",
     "output_type": "stream",
     "text": [
      "\n",
      "\n"
     ]
    },
    {
     "data": {
      "text/html": [
       "<html><script type=\"math/tex; mode=display\">\\newcommand{\\Bold}[1]{\\mathbf{#1}}\\left(1, \\left[\\left(0,\\,0,\\,0,\\,1,\\,1,\\,1\\right)\\right], 1\\right)</script></html>"
      ],
      "text/plain": [
       "(1, [\n",
       " (0, 0, 0, 1, 1, 1)\n",
       " ], 1)"
      ]
     },
     "metadata": {},
     "output_type": "display_data"
    },
    {
     "name": "stdout",
     "output_type": "stream",
     "text": [
      "\n",
      "\n"
     ]
    },
    {
     "data": {
      "text/html": [
       "<html><script type=\"math/tex; mode=display\">\\newcommand{\\Bold}[1]{\\mathbf{#1}}\\left(0, \\left[\\left(0,\\,1,\\,-1,\\,\\frac{1}{3},\\,0,\\,-\\frac{1}{3}\\right)\\right], 1\\right)</script></html>"
      ],
      "text/plain": [
       "(0, [\n",
       " (0, 1, -1, 1/3, 0, -1/3)\n",
       " ], 1)"
      ]
     },
     "metadata": {},
     "output_type": "display_data"
    },
    {
     "name": "stdout",
     "output_type": "stream",
     "text": [
      "\n",
      "\n"
     ]
    },
    {
     "data": {
      "text/html": [
       "<html><script type=\"math/tex; mode=display\">\\newcommand{\\Bold}[1]{\\mathbf{#1}}\\left(-0.4082482904638630?, \\left[\\left(1,\\,-1.224744871391589?,\\,0,\\,-0.1703666368796566?,\\,-0.02219982127793947?,\\,0.4173113295491851?\\right)\\right], 1\\right)</script></html>"
      ],
      "text/plain": [
       "(-0.4082482904638630?,\n",
       " [(1, -1.224744871391589?, 0, -0.1703666368796566?, -0.02219982127793947?, 0.4173113295491851?)],\n",
       " 1)"
      ]
     },
     "metadata": {},
     "output_type": "display_data"
    },
    {
     "name": "stdout",
     "output_type": "stream",
     "text": [
      "\n",
      "\n"
     ]
    },
    {
     "data": {
      "text/html": [
       "<html><script type=\"math/tex; mode=display\">\\newcommand{\\Bold}[1]{\\mathbf{#1}}\\left(0.4082482904638630?, \\left[\\left(1,\\,1.224744871391589?,\\,0,\\,-0.3412612700970876?,\\,-1.047567620582526?,\\,-0.8359159807119758?\\right)\\right], 1\\right)</script></html>"
      ],
      "text/plain": [
       "(0.4082482904638630?,\n",
       " [(1, 1.224744871391589?, 0, -0.3412612700970876?, -1.047567620582526?, -0.8359159807119758?)],\n",
       " 1)"
      ]
     },
     "metadata": {},
     "output_type": "display_data"
    },
    {
     "name": "stdout",
     "output_type": "stream",
     "text": [
      "\n",
      "\n"
     ]
    },
    {
     "data": {
      "text/html": [
       "<html><script type=\"math/tex; mode=display\">\\newcommand{\\Bold}[1]{\\mathbf{#1}}\\left(-0.50000000000000000? - 0.866025403784439? \\sqrt{-1}, \\left[\\left(0,\\,0,\\,0,\\,1,\\,-0.50000000000000000? - 0.866025403784439? \\sqrt{-1},\\,-0.50000000000000000? + 0.866025403784439? \\sqrt{-1}\\right)\\right], 1\\right)</script></html>"
      ],
      "text/plain": [
       "(-0.50000000000000000? - 0.866025403784439?*I,\n",
       " [(0, 0, 0, 1, -0.50000000000000000? - 0.866025403784439?*I, -0.50000000000000000? + 0.866025403784439?*I)],\n",
       " 1)"
      ]
     },
     "metadata": {},
     "output_type": "display_data"
    },
    {
     "name": "stdout",
     "output_type": "stream",
     "text": [
      "\n",
      "\n"
     ]
    },
    {
     "data": {
      "text/html": [
       "<html><script type=\"math/tex; mode=display\">\\newcommand{\\Bold}[1]{\\mathbf{#1}}\\left(-0.50000000000000000? + 0.866025403784439? \\sqrt{-1}, \\left[\\left(0,\\,0,\\,0,\\,1,\\,-0.50000000000000000? + 0.866025403784439? \\sqrt{-1},\\,-0.50000000000000000? - 0.866025403784439? \\sqrt{-1}\\right)\\right], 1\\right)</script></html>"
      ],
      "text/plain": [
       "(-0.50000000000000000? + 0.866025403784439?*I,\n",
       " [(0, 0, 0, 1, -0.50000000000000000? + 0.866025403784439?*I, -0.50000000000000000? - 0.866025403784439?*I)],\n",
       " 1)"
      ]
     },
     "metadata": {},
     "output_type": "display_data"
    }
   ],
   "source": [
    "#2.b\n",
    "M_eigenv = M.right_eigenvectors()\n",
    "print_eigenvectors(M_eigenv)"
   ]
  },
  {
   "cell_type": "code",
   "execution_count": 80,
   "metadata": {},
   "outputs": [
    {
     "data": {
      "text/html": [
       "<html><script type=\"math/tex; mode=display\">\\newcommand{\\Bold}[1]{\\mathbf{#1}}\\left(0,\\,0,\\,0,\\,\\frac{1}{3} \\, \\sqrt{3},\\,\\frac{1}{3} \\, \\sqrt{3},\\,\\frac{1}{3} \\, \\sqrt{3}\\right)</script></html>"
      ],
      "text/plain": [
       "(0, 0, 0, 1/3*sqrt(3), 1/3*sqrt(3), 1/3*sqrt(3))"
      ]
     },
     "metadata": {},
     "output_type": "display_data"
    }
   ],
   "source": [
    "eigenvector = vector([0, 0, 0, 1, 1, 1])\n",
    "show(eigenvector.normalized())"
   ]
  },
  {
   "cell_type": "markdown",
   "metadata": {},
   "source": [
    "__2.d__"
   ]
  },
  {
   "cell_type": "code",
   "execution_count": 18,
   "metadata": {
    "scrolled": true
   },
   "outputs": [
    {
     "data": {
      "text/html": [
       "<html><script type=\"math/tex; mode=display\">\\newcommand{\\Bold}[1]{\\mathbf{#1}}\\left(\\begin{array}{rrrrrr}\n",
       "0 & \\frac{1}{3} & \\frac{1}{3} & 0 & 0 & 0 \\\\\n",
       "\\frac{1}{2} & 0 & 0 & 0 & 0 & 0 \\\\\n",
       "0 & 0 & 0 & 0 & 0 & 0 \\\\\n",
       "\\frac{1}{2} & \\frac{1}{3} & \\frac{1}{3} & 0 & 1 & 0 \\\\\n",
       "0 & \\frac{1}{3} & 0 & 0 & 0 & 1 \\\\\n",
       "0 & 0 & \\frac{1}{3} & 1 & 0 & 0\n",
       "\\end{array}\\right)</script></html>"
      ],
      "text/plain": [
       "[  0 1/3 1/3   0   0   0]\n",
       "[1/2   0   0   0   0   0]\n",
       "[  0   0   0   0   0   0]\n",
       "[1/2 1/3 1/3   0   1   0]\n",
       "[  0 1/3   0   0   0   1]\n",
       "[  0   0 1/3   1   0   0]"
      ]
     },
     "metadata": {},
     "output_type": "display_data"
    }
   ],
   "source": [
    "#2.d\n",
    "M=matrix([[0,1/3,1/3,0,0,0],[1/2,0,0,0,0,0],[0,0,0,0,0,0],[1/2,1/3,1/3,0,1,0],[0,1/3,0,0,0,1],[0,0,1/3,1,0,0]])\n",
    "show(M)\n"
   ]
  },
  {
   "cell_type": "code",
   "execution_count": 19,
   "metadata": {},
   "outputs": [
    {
     "data": {
      "text/html": [
       "<html><script type=\"math/tex; mode=display\">\\newcommand{\\Bold}[1]{\\mathbf{#1}}\\left(0,\\,0,\\,0,\\,1,\\,0,\\,0\\right)</script></html>"
      ],
      "text/plain": [
       "(0, 0, 0, 1, 0, 0)"
      ]
     },
     "metadata": {},
     "output_type": "display_data"
    }
   ],
   "source": [
    "vo=vector([0, 0, 0, 1, 0, 0])\n",
    "show(vo)"
   ]
  },
  {
   "cell_type": "code",
   "execution_count": 20,
   "metadata": {},
   "outputs": [
    {
     "data": {
      "text/html": [
       "<html><script type=\"math/tex; mode=display\">\\newcommand{\\Bold}[1]{\\mathbf{#1}}\\left(0,\\,0,\\,0,\\,0,\\,0,\\,1\\right)</script></html>"
      ],
      "text/plain": [
       "(0, 0, 0, 0, 0, 1)"
      ]
     },
     "metadata": {},
     "output_type": "display_data"
    }
   ],
   "source": [
    "v1=M*vo\n",
    "show(v1)"
   ]
  },
  {
   "cell_type": "code",
   "execution_count": 21,
   "metadata": {},
   "outputs": [
    {
     "data": {
      "text/html": [
       "<html><script type=\"math/tex; mode=display\">\\newcommand{\\Bold}[1]{\\mathbf{#1}}\\left(0,\\,0,\\,0,\\,0,\\,1,\\,0\\right)</script></html>"
      ],
      "text/plain": [
       "(0, 0, 0, 0, 1, 0)"
      ]
     },
     "metadata": {},
     "output_type": "display_data"
    }
   ],
   "source": [
    "v2=(M**2)*vo\n",
    "show(v2)"
   ]
  },
  {
   "cell_type": "code",
   "execution_count": 22,
   "metadata": {},
   "outputs": [
    {
     "data": {
      "text/html": [
       "<html><script type=\"math/tex; mode=display\">\\newcommand{\\Bold}[1]{\\mathbf{#1}}\\left(0,\\,0,\\,0,\\,1,\\,0,\\,0\\right)</script></html>"
      ],
      "text/plain": [
       "(0, 0, 0, 1, 0, 0)"
      ]
     },
     "metadata": {},
     "output_type": "display_data"
    }
   ],
   "source": [
    "v3=(M**3)*vo\n",
    "show(v3)"
   ]
  },
  {
   "cell_type": "code",
   "execution_count": 23,
   "metadata": {},
   "outputs": [
    {
     "data": {
      "text/html": [
       "<html><script type=\"math/tex; mode=display\">\\newcommand{\\Bold}[1]{\\mathbf{#1}}\\left(0,\\,0,\\,0,\\,0,\\,0,\\,1\\right)</script></html>"
      ],
      "text/plain": [
       "(0, 0, 0, 0, 0, 1)"
      ]
     },
     "metadata": {},
     "output_type": "display_data"
    }
   ],
   "source": [
    "v4=(M**106)*vo\n",
    "show(v4)"
   ]
  },
  {
   "cell_type": "markdown",
   "metadata": {},
   "source": [
    "__2.f__"
   ]
  },
  {
   "cell_type": "raw",
   "metadata": {},
   "source": [
    "R=matrix(6, 6, [1/6, 1/6, 1/6, 1/6, 1/6, 1/6, 1/6, 1/6, 1/6, 1/6, 1/6, 1/6, 1/6, 1/6, 1/6, 1/6, 1/6, 1/6, 1/6, 1/6, 1/6, 1/6, 1/6, 1/6, 1/6, 1/6, 1/6, 1/6, 1/6, 1/6, 1/6, 1/6, 1/6, 1/6, 1/6, 1/6])\n",
    "show(R)"
   ]
  },
  {
   "cell_type": "code",
   "execution_count": 81,
   "metadata": {},
   "outputs": [
    {
     "data": {
      "text/html": [
       "<html><script type=\"math/tex; mode=display\">\\newcommand{\\Bold}[1]{\\mathbf{#1}}\\left(\\begin{array}{rrrrrr}\n",
       "0 & \\frac{1}{5} & \\frac{1}{5} & \\frac{1}{5} & \\frac{1}{5} & \\frac{1}{5} \\\\\n",
       "\\frac{1}{5} & 0 & \\frac{1}{5} & \\frac{1}{5} & \\frac{1}{5} & \\frac{1}{5} \\\\\n",
       "\\frac{1}{5} & \\frac{1}{5} & 0 & \\frac{1}{5} & \\frac{1}{5} & \\frac{1}{5} \\\\\n",
       "\\frac{1}{5} & \\frac{1}{5} & \\frac{1}{5} & 0 & \\frac{1}{5} & \\frac{1}{5} \\\\\n",
       "\\frac{1}{5} & \\frac{1}{5} & \\frac{1}{5} & \\frac{1}{5} & 0 & \\frac{1}{5} \\\\\n",
       "\\frac{1}{5} & \\frac{1}{5} & \\frac{1}{5} & \\frac{1}{5} & \\frac{1}{5} & 0\n",
       "\\end{array}\\right)</script></html>"
      ],
      "text/plain": [
       "[  0 1/5 1/5 1/5 1/5 1/5]\n",
       "[1/5   0 1/5 1/5 1/5 1/5]\n",
       "[1/5 1/5   0 1/5 1/5 1/5]\n",
       "[1/5 1/5 1/5   0 1/5 1/5]\n",
       "[1/5 1/5 1/5 1/5   0 1/5]\n",
       "[1/5 1/5 1/5 1/5 1/5   0]"
      ]
     },
     "metadata": {},
     "output_type": "display_data"
    }
   ],
   "source": [
    "R=matrix([[0,1/5,1/5,1/5,1/5,1/5],[1/5,0,1/5,1/5,1/5,1/5],[1/5,1/5,0,1/5,1/5,1/5],[1/5,1/5,1/5,0,1/5,1/5],[1/5,1/5,1/5,1/5,0,1/5],[1/5,1/5,1/5,1/5,1/5,0]])\n",
    "show(R)"
   ]
  },
  {
   "cell_type": "code",
   "execution_count": 82,
   "metadata": {},
   "outputs": [
    {
     "name": "stdout",
     "output_type": "stream",
     "text": [
      "\n",
      "\n"
     ]
    },
    {
     "data": {
      "text/html": [
       "<html><script type=\"math/tex; mode=display\">\\newcommand{\\Bold}[1]{\\mathbf{#1}}\\left(1, \\left[\\left(1,\\,1,\\,1,\\,1,\\,1,\\,1\\right)\\right], 1\\right)</script></html>"
      ],
      "text/plain": [
       "(1, [\n",
       " (1, 1, 1, 1, 1, 1)\n",
       " ], 1)"
      ]
     },
     "metadata": {},
     "output_type": "display_data"
    },
    {
     "name": "stdout",
     "output_type": "stream",
     "text": [
      "\n",
      "\n"
     ]
    },
    {
     "data": {
      "text/html": [
       "<html><script type=\"math/tex; mode=display\">\\newcommand{\\Bold}[1]{\\mathbf{#1}}\\left(-\\frac{1}{5}, \\left[\\left(1,\\,0,\\,0,\\,0,\\,0,\\,-1\\right), \\left(0,\\,1,\\,0,\\,0,\\,0,\\,-1\\right), \\left(0,\\,0,\\,1,\\,0,\\,0,\\,-1\\right), \\left(0,\\,0,\\,0,\\,1,\\,0,\\,-1\\right), \\left(0,\\,0,\\,0,\\,0,\\,1,\\,-1\\right)\\right], 5\\right)</script></html>"
      ],
      "text/plain": [
       "(-1/5, [\n",
       " (1, 0, 0, 0, 0, -1),\n",
       " (0, 1, 0, 0, 0, -1),\n",
       " (0, 0, 1, 0, 0, -1),\n",
       " (0, 0, 0, 1, 0, -1),\n",
       " (0, 0, 0, 0, 1, -1)\n",
       " ], 5)"
      ]
     },
     "metadata": {},
     "output_type": "display_data"
    },
    {
     "name": "stdout",
     "output_type": "stream",
     "text": [
      "Eigenvalues\n"
     ]
    },
    {
     "data": {
      "text/html": [
       "<html><script type=\"math/tex; mode=display\">\\newcommand{\\Bold}[1]{\\mathbf{#1}}\\left[1, -\\frac{1}{5}, -\\frac{1}{5}, -\\frac{1}{5}, -\\frac{1}{5}, -\\frac{1}{5}\\right]</script></html>"
      ],
      "text/plain": [
       "[1, -1/5, -1/5, -1/5, -1/5, -1/5]"
      ]
     },
     "metadata": {},
     "output_type": "display_data"
    }
   ],
   "source": [
    "R_eigenv = R.right_eigenvectors()\n",
    "print_eigenvectors(R_eigenv)\n",
    "print(\"Eigenvalues\")\n",
    "show(R.eigenvalues())"
   ]
  },
  {
   "cell_type": "markdown",
   "metadata": {},
   "source": [
    "__(g)__"
   ]
  },
  {
   "cell_type": "code",
   "execution_count": 85,
   "metadata": {},
   "outputs": [
    {
     "data": {
      "text/html": [
       "<html><script type=\"math/tex; mode=display\">\\newcommand{\\Bold}[1]{\\mathbf{#1}}\\left(\\begin{array}{rrrrrr}\n",
       "0 & \\frac{3}{10} & \\frac{3}{10} & \\frac{1}{20} & \\frac{1}{20} & \\frac{1}{20} \\\\\n",
       "\\frac{17}{40} & 0 & \\frac{1}{20} & \\frac{1}{20} & \\frac{1}{20} & \\frac{1}{20} \\\\\n",
       "\\frac{1}{20} & \\frac{1}{20} & 0 & \\frac{1}{20} & \\frac{1}{20} & \\frac{1}{20} \\\\\n",
       "\\frac{17}{40} & \\frac{3}{10} & \\frac{3}{10} & 0 & \\frac{4}{5} & \\frac{1}{20} \\\\\n",
       "\\frac{1}{20} & \\frac{3}{10} & \\frac{1}{20} & \\frac{1}{20} & 0 & \\frac{4}{5} \\\\\n",
       "\\frac{1}{20} & \\frac{1}{20} & \\frac{3}{10} & \\frac{4}{5} & \\frac{1}{20} & 0\n",
       "\\end{array}\\right)</script></html>"
      ],
      "text/plain": [
       "[    0  3/10  3/10  1/20  1/20  1/20]\n",
       "[17/40     0  1/20  1/20  1/20  1/20]\n",
       "[ 1/20  1/20     0  1/20  1/20  1/20]\n",
       "[17/40  3/10  3/10     0   4/5  1/20]\n",
       "[ 1/20  3/10  1/20  1/20     0   4/5]\n",
       "[ 1/20  1/20  3/10   4/5  1/20     0]"
      ]
     },
     "metadata": {},
     "output_type": "display_data"
    }
   ],
   "source": [
    "# Matrix A = mix of deterministic (A) \n",
    "# and random browsing (R)\n",
    "A = (3/4)*M + (1/4)*R\n",
    "show(A)"
   ]
  },
  {
   "cell_type": "code",
   "execution_count": 88,
   "metadata": {},
   "outputs": [],
   "source": [
    "def sumColumn(m, column):\n",
    "    total = 0.0\n",
    "    for row in range(6):\n",
    "        total += m[row][column]\n",
    "    return total"
   ]
  },
  {
   "cell_type": "code",
   "execution_count": 89,
   "metadata": {},
   "outputs": [
    {
     "name": "stdout",
     "output_type": "stream",
     "text": [
      "True\n",
      "True\n",
      "True\n",
      "True\n",
      "True\n",
      "True\n"
     ]
    }
   ],
   "source": [
    "# Verify that it is a Markov matrix\n",
    "# Column probabilities should equal 1\n",
    "print(sumColumn(A, 0) == 1)\n",
    "print(sumColumn(A, 1) == 1)\n",
    "print(sumColumn(A, 2) == 1)\n",
    "print(sumColumn(A, 3) == 1)\n",
    "print(sumColumn(A, 4) == 1)\n",
    "print(sumColumn(A, 5) == 1)"
   ]
  },
  {
   "cell_type": "code",
   "execution_count": 90,
   "metadata": {},
   "outputs": [],
   "source": [
    "# Row probabilities do not have to sum to 1\n",
    "def sumRow(m, row):\n",
    "    total = 0.0\n",
    "    for column in range(6):\n",
    "        total += m[row][column]\n",
    "        # print(m[row][column])\n",
    "    return total"
   ]
  },
  {
   "cell_type": "code",
   "execution_count": 91,
   "metadata": {
    "scrolled": true
   },
   "outputs": [
    {
     "name": "stdout",
     "output_type": "stream",
     "text": [
      "0.750000000000000\n",
      "0.625000000000000\n",
      "0.250000000000000\n",
      "1.87500000000000\n",
      "1.25000000000000\n",
      "1.25000000000000\n",
      "False\n",
      "False\n",
      "False\n",
      "False\n",
      "False\n",
      "False\n"
     ]
    }
   ],
   "source": [
    "# Row probabilities do not have to equal 1\n",
    "print(sumRow(A, 0))\n",
    "print(sumRow(A, 1))\n",
    "print(sumRow(A, 2))\n",
    "print(sumRow(A, 3))\n",
    "print(sumRow(A, 4))\n",
    "print(sumRow(A, 5))\n",
    "print(sumRow(A, 0) == 1)\n",
    "print(sumRow(A, 1) == 1)\n",
    "print(sumRow(A, 2) == 1)\n",
    "print(sumRow(A, 3) == 1)\n",
    "print(sumRow(A, 4) == 1)\n",
    "print(sumRow(A, 5) == 1)"
   ]
  },
  {
   "cell_type": "code",
   "execution_count": 92,
   "metadata": {
    "scrolled": true
   },
   "outputs": [
    {
     "name": "stdout",
     "output_type": "stream",
     "text": [
      "eigenvalues:\n"
     ]
    },
    {
     "data": {
      "text/html": [
       "<html><script type=\"math/tex; mode=display\">\\newcommand{\\Bold}[1]{\\mathbf{#1}}\\left[1, -\\frac{1}{20}, -0.3561862178478973?, 0.2561862178478973?, -0.4250000000000000? - 0.649519052838329? \\sqrt{-1}, -0.4250000000000000? + 0.649519052838329? \\sqrt{-1}\\right]</script></html>"
      ],
      "text/plain": [
       "[1, -1/20, -0.3561862178478973?, 0.2561862178478973?, -0.4250000000000000? - 0.649519052838329?*I, -0.4250000000000000? + 0.649519052838329?*I]"
      ]
     },
     "metadata": {},
     "output_type": "display_data"
    },
    {
     "name": "stdout",
     "output_type": "stream",
     "text": [
      "eigenvectors:\n",
      "\n",
      "\n"
     ]
    },
    {
     "data": {
      "text/html": [
       "<html><script type=\"math/tex; mode=display\">\\newcommand{\\Bold}[1]{\\mathbf{#1}}\\left(1, \\left[\\left(1,\\,\\frac{212}{217},\\,\\frac{269}{434},\\,\\frac{526423}{141918},\\,\\frac{33382}{10137},\\,\\frac{161641}{47306}\\right)\\right], 1\\right)</script></html>"
      ],
      "text/plain": [
       "(1, [\n",
       " (1, 212/217, 269/434, 526423/141918, 33382/10137, 161641/47306)\n",
       " ], 1)"
      ]
     },
     "metadata": {},
     "output_type": "display_data"
    },
    {
     "name": "stdout",
     "output_type": "stream",
     "text": [
      "\n",
      "\n"
     ]
    },
    {
     "data": {
      "text/html": [
       "<html><script type=\"math/tex; mode=display\">\\newcommand{\\Bold}[1]{\\mathbf{#1}}\\left(-\\frac{1}{20}, \\left[\\left(0,\\,1,\\,-1,\\,\\frac{1}{3},\\,0,\\,-\\frac{1}{3}\\right)\\right], 1\\right)</script></html>"
      ],
      "text/plain": [
       "(-1/20, [\n",
       " (0, 1, -1, 1/3, 0, -1/3)\n",
       " ], 1)"
      ]
     },
     "metadata": {},
     "output_type": "display_data"
    },
    {
     "name": "stdout",
     "output_type": "stream",
     "text": [
      "\n",
      "\n"
     ]
    },
    {
     "data": {
      "text/html": [
       "<html><script type=\"math/tex; mode=display\">\\newcommand{\\Bold}[1]{\\mathbf{#1}}\\left(-0.3561862178478973?, \\left[\\left(1,\\,-1.224744871391589?,\\,0,\\,-0.1703666368796566?,\\,-0.02219982127793947?,\\,0.4173113295491851?\\right)\\right], 1\\right)</script></html>"
      ],
      "text/plain": [
       "(-0.3561862178478973?,\n",
       " [(1, -1.224744871391589?, 0, -0.1703666368796566?, -0.02219982127793947?, 0.4173113295491851?)],\n",
       " 1)"
      ]
     },
     "metadata": {},
     "output_type": "display_data"
    },
    {
     "name": "stdout",
     "output_type": "stream",
     "text": [
      "\n",
      "\n"
     ]
    },
    {
     "data": {
      "text/html": [
       "<html><script type=\"math/tex; mode=display\">\\newcommand{\\Bold}[1]{\\mathbf{#1}}\\left(0.2561862178478973?, \\left[\\left(1,\\,1.224744871391589?,\\,0,\\,-0.3412612700970876?,\\,-1.047567620582526?,\\,-0.8359159807119758?\\right)\\right], 1\\right)</script></html>"
      ],
      "text/plain": [
       "(0.2561862178478973?,\n",
       " [(1, 1.224744871391589?, 0, -0.3412612700970876?, -1.047567620582526?, -0.8359159807119758?)],\n",
       " 1)"
      ]
     },
     "metadata": {},
     "output_type": "display_data"
    },
    {
     "name": "stdout",
     "output_type": "stream",
     "text": [
      "\n",
      "\n"
     ]
    },
    {
     "data": {
      "text/html": [
       "<html><script type=\"math/tex; mode=display\">\\newcommand{\\Bold}[1]{\\mathbf{#1}}\\left(-0.4250000000000000? - 0.649519052838329? \\sqrt{-1}, \\left[\\left(0,\\,0,\\,0,\\,1,\\,-0.500000000000000? - 0.866025403784439? \\sqrt{-1},\\,-0.500000000000000? + 0.866025403784439? \\sqrt{-1}\\right)\\right], 1\\right)</script></html>"
      ],
      "text/plain": [
       "(-0.4250000000000000? - 0.649519052838329?*I,\n",
       " [(0, 0, 0, 1, -0.500000000000000? - 0.866025403784439?*I, -0.500000000000000? + 0.866025403784439?*I)],\n",
       " 1)"
      ]
     },
     "metadata": {},
     "output_type": "display_data"
    },
    {
     "name": "stdout",
     "output_type": "stream",
     "text": [
      "\n",
      "\n"
     ]
    },
    {
     "data": {
      "text/html": [
       "<html><script type=\"math/tex; mode=display\">\\newcommand{\\Bold}[1]{\\mathbf{#1}}\\left(-0.4250000000000000? + 0.649519052838329? \\sqrt{-1}, \\left[\\left(0,\\,0,\\,0,\\,1,\\,-0.500000000000000? + 0.866025403784439? \\sqrt{-1},\\,-0.500000000000000? - 0.866025403784439? \\sqrt{-1}\\right)\\right], 1\\right)</script></html>"
      ],
      "text/plain": [
       "(-0.4250000000000000? + 0.649519052838329?*I,\n",
       " [(0, 0, 0, 1, -0.500000000000000? + 0.866025403784439?*I, -0.500000000000000? - 0.866025403784439?*I)],\n",
       " 1)"
      ]
     },
     "metadata": {},
     "output_type": "display_data"
    }
   ],
   "source": [
    "# Long-term / stationary distribution\n",
    "print(\"eigenvalues:\")\n",
    "show(A.eigenvalues())\n",
    "print(\"eigenvectors:\")\n",
    "A_eigenv = A.right_eigenvectors()\n",
    "print_eigenvectors(A_eigenv)"
   ]
  },
  {
   "cell_type": "code",
   "execution_count": 102,
   "metadata": {},
   "outputs": [
    {
     "data": {
      "text/html": [
       "<html><script type=\"math/tex; mode=display\">\\newcommand{\\Bold}[1]{\\mathbf{#1}}\\left(1,\\,\\frac{212}{217},\\,\\frac{269}{434},\\,\\frac{526423}{141918},\\,\\frac{33382}{10137},\\,\\frac{161641}{47306}\\right)</script></html>"
      ],
      "text/plain": [
       "(1, 212/217, 269/434, 526423/141918, 33382/10137, 161641/47306)"
      ]
     },
     "metadata": {},
     "output_type": "display_data"
    }
   ],
   "source": [
    "eigenvector = vector([1, 212/217, 269/434, 526423/141918, 33382/10137, 161641/47306])\n",
    "show(eigenvector)"
   ]
  },
  {
   "cell_type": "code",
   "execution_count": 103,
   "metadata": {},
   "outputs": [],
   "source": [
    "sum_ev = sum(eigenvector)"
   ]
  },
  {
   "cell_type": "code",
   "execution_count": 104,
   "metadata": {},
   "outputs": [
    {
     "data": {
      "text/html": [
       "<html><script type=\"math/tex; mode=display\">\\newcommand{\\Bold}[1]{\\mathbf{#1}}\\left(\\frac{62}{807},\\,\\frac{424}{5649},\\,\\frac{1}{21},\\,\\frac{526423}{1847223},\\,\\frac{66764}{263889},\\,\\frac{161641}{615741}\\right)</script></html>"
      ],
      "text/plain": [
       "(62/807, 424/5649, 1/21, 526423/1847223, 66764/263889, 161641/615741)"
      ]
     },
     "metadata": {},
     "output_type": "display_data"
    }
   ],
   "source": [
    "n_eigenvector = eigenvector/sum_ev\n",
    "show(n_eigenvector)"
   ]
  },
  {
   "cell_type": "code",
   "execution_count": 105,
   "metadata": {},
   "outputs": [
    {
     "data": {
      "text/html": [
       "<html><script type=\"math/tex; mode=display\">\\newcommand{\\Bold}[1]{\\mathbf{#1}}\\left(0.0768277571251549,\\,0.0750575323066029,\\,0.0476190476190476,\\,0.284980752188555,\\,0.253000314526183,\\,0.262514596234456\\right)</script></html>"
      ],
      "text/plain": [
       "(0.0768277571251549, 0.0750575323066029, 0.0476190476190476, 0.284980752188555, 0.253000314526183, 0.262514596234456)"
      ]
     },
     "metadata": {},
     "output_type": "display_data"
    }
   ],
   "source": [
    "show(n_eigenvector.n())"
   ]
  },
  {
   "cell_type": "markdown",
   "metadata": {},
   "source": [
    "__(h)__"
   ]
  },
  {
   "cell_type": "code",
   "execution_count": 279,
   "metadata": {},
   "outputs": [],
   "source": [
    "S = vector([1/6, 1/6, 1/6, 1/6, 1/6, 1/6])"
   ]
  },
  {
   "cell_type": "code",
   "execution_count": 282,
   "metadata": {},
   "outputs": [],
   "source": [
    "Rank = (M**1000002)*S"
   ]
  },
  {
   "cell_type": "code",
   "execution_count": 283,
   "metadata": {},
   "outputs": [
    {
     "data": {
      "text/plain": [
       "(6.58424037289752e-389078, 1.31684807457950e-389077, 0.000000000000000, 0.288113695090439, 0.395348837209302, 0.316537467700258)"
      ]
     },
     "execution_count": 283,
     "metadata": {},
     "output_type": "execute_result"
    }
   ],
   "source": [
    "Rank.n()"
   ]
  },
  {
   "cell_type": "markdown",
   "metadata": {},
   "source": [
    "### 3. Animation Studios"
   ]
  },
  {
   "cell_type": "markdown",
   "metadata": {},
   "source": [
    "__Translation__: Moving an object up/down, left/right"
   ]
  },
  {
   "cell_type": "markdown",
   "metadata": {},
   "source": [
    "__(b)__"
   ]
  },
  {
   "cell_type": "code",
   "execution_count": 208,
   "metadata": {},
   "outputs": [
    {
     "data": {
      "text/html": [
       "<html><script type=\"math/tex; mode=display\">\\newcommand{\\Bold}[1]{\\mathbf{#1}}\\left(\\begin{array}{rr}\n",
       "1 & 0 \\\\\n",
       "0 & 1\n",
       "\\end{array}\\right)</script></html>"
      ],
      "text/plain": [
       "[1 0]\n",
       "[0 1]"
      ]
     },
     "metadata": {},
     "output_type": "display_data"
    }
   ],
   "source": [
    "A = matrix(QQ, 2, 2, [1, 0, 0, 1])\n",
    "show (A)"
   ]
  },
  {
   "cell_type": "code",
   "execution_count": 209,
   "metadata": {
    "scrolled": false
   },
   "outputs": [
    {
     "data": {
      "text/html": [
       "<html><script type=\"math/tex; mode=display\">\\newcommand{\\Bold}[1]{\\mathbf{#1}}\\left(0,\\,0\\right)</script></html>"
      ],
      "text/plain": [
       "(0, 0)"
      ]
     },
     "metadata": {},
     "output_type": "display_data"
    },
    {
     "data": {
      "text/html": [
       "<html><script type=\"math/tex; mode=display\">\\newcommand{\\Bold}[1]{\\mathbf{#1}}\\left(2,\\,1\\right)</script></html>"
      ],
      "text/plain": [
       "(2, 1)"
      ]
     },
     "metadata": {},
     "output_type": "display_data"
    },
    {
     "data": {
      "text/html": [
       "<html><script type=\"math/tex; mode=display\">\\newcommand{\\Bold}[1]{\\mathbf{#1}}\\left(2,\\,1\\right)</script></html>"
      ],
      "text/plain": [
       "(2, 1)"
      ]
     },
     "metadata": {},
     "output_type": "display_data"
    },
    {
     "data": {
      "image/png": "[encoded data removed]",
      "text/plain": [
       "Graphics object consisting of 1 graphics primitive"
      ]
     },
     "metadata": {},
     "output_type": "display_data"
    }
   ],
   "source": [
    "v_start = vector([0, 0])\n",
    "v_end = vector([2, 1])\n",
    "v = v_end - v_start\n",
    "show(v_start)\n",
    "show(v_end)\n",
    "show(v)\n",
    "v_line = line([v_start, v_end])\n",
    "show(v_line)"
   ]
  },
  {
   "cell_type": "code",
   "execution_count": 210,
   "metadata": {},
   "outputs": [],
   "source": [
    "b = vector([1, 0])"
   ]
  },
  {
   "cell_type": "code",
   "execution_count": 211,
   "metadata": {
    "scrolled": true
   },
   "outputs": [
    {
     "data": {
      "text/html": [
       "<html><script type=\"math/tex; mode=display\">\\newcommand{\\Bold}[1]{\\mathbf{#1}}\\left(1,\\,0\\right)</script></html>"
      ],
      "text/plain": [
       "(1, 0)"
      ]
     },
     "metadata": {},
     "output_type": "display_data"
    },
    {
     "data": {
      "text/html": [
       "<html><script type=\"math/tex; mode=display\">\\newcommand{\\Bold}[1]{\\mathbf{#1}}\\left(3,\\,1\\right)</script></html>"
      ],
      "text/plain": [
       "(3, 1)"
      ]
     },
     "metadata": {},
     "output_type": "display_data"
    },
    {
     "data": {
      "text/html": [
       "<html><script type=\"math/tex; mode=display\">\\newcommand{\\Bold}[1]{\\mathbf{#1}}\\left(2,\\,1\\right)</script></html>"
      ],
      "text/plain": [
       "(2, 1)"
      ]
     },
     "metadata": {},
     "output_type": "display_data"
    },
    {
     "data": {
      "image/png": "[encoded data removed]",
      "text/plain": [
       "Graphics object consisting of 2 graphics primitives"
      ]
     },
     "metadata": {},
     "output_type": "display_data"
    }
   ],
   "source": [
    "tr_start = A*v_start + b\n",
    "show(tr_start)\n",
    "tr_end = A*v_end + b\n",
    "show(tr_end)\n",
    "tr_v = tr_end - tr_start\n",
    "show(tr_v)\n",
    "tr_line = line([tr_start, tr_end], color='red')\n",
    "show(tr_line+v_line)"
   ]
  },
  {
   "cell_type": "code",
   "execution_count": 212,
   "metadata": {},
   "outputs": [],
   "source": [
    "# v_plot = plot(v)\n",
    "# v_plot\n",
    "\n",
    "# tr_plot = plot(tr_v, color = 'red')\n",
    "# tr_plot + v_plot"
   ]
  },
  {
   "cell_type": "markdown",
   "metadata": {},
   "source": [
    "__(c)__"
   ]
  },
  {
   "cell_type": "code",
   "execution_count": 213,
   "metadata": {},
   "outputs": [
    {
     "data": {
      "text/html": [
       "<html><script type=\"math/tex; mode=display\">\\newcommand{\\Bold}[1]{\\mathbf{#1}}\\left(\\begin{array}{rr}\n",
       "0 & -1 \\\\\n",
       "1 & 0\n",
       "\\end{array}\\right)</script></html>"
      ],
      "text/plain": [
       "[ 0 -1]\n",
       "[ 1  0]"
      ]
     },
     "metadata": {},
     "output_type": "display_data"
    }
   ],
   "source": [
    "A = matrix(QQ, 2, 2, [0, -1, 1, 0])\n",
    "show(A)"
   ]
  },
  {
   "cell_type": "code",
   "execution_count": 214,
   "metadata": {},
   "outputs": [
    {
     "data": {
      "text/html": [
       "<html><script type=\"math/tex; mode=display\">\\newcommand{\\Bold}[1]{\\mathbf{#1}}\\left(0,\\,0\\right)</script></html>"
      ],
      "text/plain": [
       "(0, 0)"
      ]
     },
     "metadata": {},
     "output_type": "display_data"
    },
    {
     "data": {
      "text/html": [
       "<html><script type=\"math/tex; mode=display\">\\newcommand{\\Bold}[1]{\\mathbf{#1}}\\left(2,\\,1\\right)</script></html>"
      ],
      "text/plain": [
       "(2, 1)"
      ]
     },
     "metadata": {},
     "output_type": "display_data"
    },
    {
     "data": {
      "text/html": [
       "<html><script type=\"math/tex; mode=display\">\\newcommand{\\Bold}[1]{\\mathbf{#1}}\\left(2,\\,1\\right)</script></html>"
      ],
      "text/plain": [
       "(2, 1)"
      ]
     },
     "metadata": {},
     "output_type": "display_data"
    },
    {
     "data": {
      "image/png": "[encoded data removed]",
      "text/plain": [
       "Graphics object consisting of 1 graphics primitive"
      ]
     },
     "metadata": {},
     "output_type": "display_data"
    }
   ],
   "source": [
    "v_start = vector([0, 0])\n",
    "v_end = vector([2, 1])\n",
    "v = v_end - v_start\n",
    "show(v_start)\n",
    "show(v_end)\n",
    "show(v)\n",
    "v_line = line([v_start, v_end])\n",
    "show(v_line)"
   ]
  },
  {
   "cell_type": "code",
   "execution_count": 215,
   "metadata": {},
   "outputs": [
    {
     "data": {
      "text/html": [
       "<html><script type=\"math/tex; mode=display\">\\newcommand{\\Bold}[1]{\\mathbf{#1}}\\left(0,\\,1\\right)</script></html>"
      ],
      "text/plain": [
       "(0, 1)"
      ]
     },
     "metadata": {},
     "output_type": "display_data"
    }
   ],
   "source": [
    "b = vector([0, 1])\n",
    "show(b)"
   ]
  },
  {
   "cell_type": "code",
   "execution_count": 216,
   "metadata": {},
   "outputs": [
    {
     "data": {
      "text/html": [
       "<html><script type=\"math/tex; mode=display\">\\newcommand{\\Bold}[1]{\\mathbf{#1}}\\left(0,\\,1\\right)</script></html>"
      ],
      "text/plain": [
       "(0, 1)"
      ]
     },
     "metadata": {},
     "output_type": "display_data"
    },
    {
     "data": {
      "text/html": [
       "<html><script type=\"math/tex; mode=display\">\\newcommand{\\Bold}[1]{\\mathbf{#1}}\\left(-1,\\,3\\right)</script></html>"
      ],
      "text/plain": [
       "(-1, 3)"
      ]
     },
     "metadata": {},
     "output_type": "display_data"
    },
    {
     "data": {
      "text/html": [
       "<html><script type=\"math/tex; mode=display\">\\newcommand{\\Bold}[1]{\\mathbf{#1}}\\left(-1,\\,2\\right)</script></html>"
      ],
      "text/plain": [
       "(-1, 2)"
      ]
     },
     "metadata": {},
     "output_type": "display_data"
    },
    {
     "data": {
      "image/png": "[encoded data removed]",
      "text/plain": [
       "Graphics object consisting of 2 graphics primitives"
      ]
     },
     "metadata": {},
     "output_type": "display_data"
    }
   ],
   "source": [
    "tr_start = A*v_start + b\n",
    "show(tr_start)\n",
    "tr_end = A*v_end + b\n",
    "show(tr_end)\n",
    "tr_v = tr_end - tr_start\n",
    "show(tr_v)\n",
    "tr_line = line([tr_start, tr_end], color='red')\n",
    "show(tr_line+v_line)"
   ]
  },
  {
   "cell_type": "markdown",
   "metadata": {},
   "source": [
    "__(d)__"
   ]
  },
  {
   "cell_type": "markdown",
   "metadata": {},
   "source": [
    "_What we are trying to achieve? ..._"
   ]
  },
  {
   "cell_type": "code",
   "execution_count": 217,
   "metadata": {
    "scrolled": true
   },
   "outputs": [
    {
     "data": {
      "text/html": [
       "<html><script type=\"math/tex; mode=display\">\\newcommand{\\Bold}[1]{\\mathbf{#1}}\\left(\\begin{array}{rr}\n",
       "0 & -1 \\\\\n",
       "1 & 0\n",
       "\\end{array}\\right)</script></html>"
      ],
      "text/plain": [
       "[ 0 -1]\n",
       "[ 1  0]"
      ]
     },
     "metadata": {},
     "output_type": "display_data"
    }
   ],
   "source": [
    "A = matrix(QQ, 2, 2, [0, -1, 1, 0])\n",
    "show(A)"
   ]
  },
  {
   "cell_type": "code",
   "execution_count": 218,
   "metadata": {},
   "outputs": [
    {
     "data": {
      "text/html": [
       "<html><script type=\"math/tex; mode=display\">\\newcommand{\\Bold}[1]{\\mathbf{#1}}\\left(0,\\,0\\right)</script></html>"
      ],
      "text/plain": [
       "(0, 0)"
      ]
     },
     "metadata": {},
     "output_type": "display_data"
    },
    {
     "data": {
      "text/html": [
       "<html><script type=\"math/tex; mode=display\">\\newcommand{\\Bold}[1]{\\mathbf{#1}}\\left(2,\\,1\\right)</script></html>"
      ],
      "text/plain": [
       "(2, 1)"
      ]
     },
     "metadata": {},
     "output_type": "display_data"
    },
    {
     "data": {
      "text/html": [
       "<html><script type=\"math/tex; mode=display\">\\newcommand{\\Bold}[1]{\\mathbf{#1}}\\left(2,\\,1\\right)</script></html>"
      ],
      "text/plain": [
       "(2, 1)"
      ]
     },
     "metadata": {},
     "output_type": "display_data"
    },
    {
     "data": {
      "image/png": "[encoded data removed]",
      "text/plain": [
       "Graphics object consisting of 1 graphics primitive"
      ]
     },
     "metadata": {},
     "output_type": "display_data"
    }
   ],
   "source": [
    "v_start = vector([0, 0])\n",
    "v_end = vector([2, 1])\n",
    "v = v_end - v_start\n",
    "show(v_start)\n",
    "show(v_end)\n",
    "show(v)\n",
    "v_line = line([v_start, v_end])\n",
    "show(v_line)"
   ]
  },
  {
   "cell_type": "code",
   "execution_count": 226,
   "metadata": {},
   "outputs": [
    {
     "data": {
      "text/html": [
       "<html><script type=\"math/tex; mode=display\">\\newcommand{\\Bold}[1]{\\mathbf{#1}}\\left(0,\\,1\\right)</script></html>"
      ],
      "text/plain": [
       "(0, 1)"
      ]
     },
     "metadata": {},
     "output_type": "display_data"
    }
   ],
   "source": [
    "b = vector([0, 1])\n",
    "show(b)"
   ]
  },
  {
   "cell_type": "code",
   "execution_count": 227,
   "metadata": {},
   "outputs": [
    {
     "data": {
      "text/html": [
       "<html><script type=\"math/tex; mode=display\">\\newcommand{\\Bold}[1]{\\mathbf{#1}}\\left(0,\\,1\\right)</script></html>"
      ],
      "text/plain": [
       "(0, 1)"
      ]
     },
     "metadata": {},
     "output_type": "display_data"
    },
    {
     "data": {
      "text/html": [
       "<html><script type=\"math/tex; mode=display\">\\newcommand{\\Bold}[1]{\\mathbf{#1}}\\left(2,\\,2\\right)</script></html>"
      ],
      "text/plain": [
       "(2, 2)"
      ]
     },
     "metadata": {},
     "output_type": "display_data"
    },
    {
     "data": {
      "text/html": [
       "<html><script type=\"math/tex; mode=display\">\\newcommand{\\Bold}[1]{\\mathbf{#1}}\\left(2,\\,1\\right)</script></html>"
      ],
      "text/plain": [
       "(2, 1)"
      ]
     },
     "metadata": {},
     "output_type": "display_data"
    },
    {
     "data": {
      "image/png": "[encoded data removed]",
      "text/plain": [
       "Graphics object consisting of 2 graphics primitives"
      ]
     },
     "metadata": {},
     "output_type": "display_data"
    }
   ],
   "source": [
    "v_start = vector([0, 0])\n",
    "v_end = vector([2, 1])\n",
    "tr_start = (v_start + b)\n",
    "show(tr_start)\n",
    "tr_end = (v_end + b)\n",
    "show(tr_end)\n",
    "tr_v = tr_end - tr_start\n",
    "show(tr_v)\n",
    "tr0_line = line([tr_start, tr_end], color='orange')\n",
    "show(tr0_line+v_line)"
   ]
  },
  {
   "cell_type": "code",
   "execution_count": 228,
   "metadata": {},
   "outputs": [
    {
     "data": {
      "text/html": [
       "<html><script type=\"math/tex; mode=display\">\\newcommand{\\Bold}[1]{\\mathbf{#1}}\\left(-1,\\,0\\right)</script></html>"
      ],
      "text/plain": [
       "(-1, 0)"
      ]
     },
     "metadata": {},
     "output_type": "display_data"
    },
    {
     "data": {
      "text/html": [
       "<html><script type=\"math/tex; mode=display\">\\newcommand{\\Bold}[1]{\\mathbf{#1}}\\left(-2,\\,2\\right)</script></html>"
      ],
      "text/plain": [
       "(-2, 2)"
      ]
     },
     "metadata": {},
     "output_type": "display_data"
    },
    {
     "data": {
      "text/html": [
       "<html><script type=\"math/tex; mode=display\">\\newcommand{\\Bold}[1]{\\mathbf{#1}}\\left(-1,\\,2\\right)</script></html>"
      ],
      "text/plain": [
       "(-1, 2)"
      ]
     },
     "metadata": {},
     "output_type": "display_data"
    },
    {
     "data": {
      "image/png": "[encoded data removed]",
      "text/plain": [
       "Graphics object consisting of 2 graphics primitives"
      ]
     },
     "metadata": {},
     "output_type": "display_data"
    }
   ],
   "source": [
    "v_start = vector([0, 0])\n",
    "v_end = vector([2, 1])\n",
    "tr_start = A*(v_start + b)\n",
    "show(tr_start)\n",
    "tr_end = A*(v_end + b)\n",
    "show(tr_end)\n",
    "tr_v = tr_end - tr_start\n",
    "show(tr_v)\n",
    "tr0_line = line([tr_start, tr_end], color='orange')\n",
    "show(tr0_line+v_line)"
   ]
  },
  {
   "cell_type": "markdown",
   "metadata": {},
   "source": [
    "_... but in the form A*v + b (not A*(v+b)):_"
   ]
  },
  {
   "cell_type": "code",
   "execution_count": 229,
   "metadata": {
    "scrolled": false
   },
   "outputs": [],
   "source": [
    "v_start = vector([0, 0])\n",
    "v_end = vector([2, 1])"
   ]
  },
  {
   "cell_type": "code",
   "execution_count": 230,
   "metadata": {},
   "outputs": [
    {
     "data": {
      "text/html": [
       "<html><script type=\"math/tex; mode=display\">\\newcommand{\\Bold}[1]{\\mathbf{#1}}\\left(-1,\\,0\\right)</script></html>"
      ],
      "text/plain": [
       "(-1, 0)"
      ]
     },
     "metadata": {},
     "output_type": "display_data"
    }
   ],
   "source": [
    "b = vector([-1, 0])\n",
    "show(b)"
   ]
  },
  {
   "cell_type": "code",
   "execution_count": 239,
   "metadata": {
    "scrolled": false
   },
   "outputs": [
    {
     "data": {
      "text/html": [
       "<html><script type=\"math/tex; mode=display\">\\newcommand{\\Bold}[1]{\\mathbf{#1}}\\left(-1,\\,0\\right)</script></html>"
      ],
      "text/plain": [
       "(-1, 0)"
      ]
     },
     "metadata": {},
     "output_type": "display_data"
    },
    {
     "data": {
      "text/html": [
       "<html><script type=\"math/tex; mode=display\">\\newcommand{\\Bold}[1]{\\mathbf{#1}}\\left(-2,\\,2\\right)</script></html>"
      ],
      "text/plain": [
       "(-2, 2)"
      ]
     },
     "metadata": {},
     "output_type": "display_data"
    },
    {
     "data": {
      "text/html": [
       "<html><script type=\"math/tex; mode=display\">\\newcommand{\\Bold}[1]{\\mathbf{#1}}\\left(-1,\\,2\\right)</script></html>"
      ],
      "text/plain": [
       "(-1, 2)"
      ]
     },
     "metadata": {},
     "output_type": "display_data"
    },
    {
     "data": {
      "image/png": "[encoded data removed]",
      "text/plain": [
       "Graphics object consisting of 2 graphics primitives"
      ]
     },
     "metadata": {},
     "output_type": "display_data"
    }
   ],
   "source": [
    "tr_start = A*v_start + b\n",
    "show(tr_start)\n",
    "tr_end = A*v_end + b\n",
    "show(tr_end)\n",
    "tr_v = tr_end - tr_start\n",
    "show(tr_v)\n",
    "tr2_line = line([tr_start, tr_end], color='orange')\n",
    "show(v_line+tr2_line)"
   ]
  },
  {
   "cell_type": "markdown",
   "metadata": {},
   "source": [
    "__(g)__"
   ]
  },
  {
   "cell_type": "code",
   "execution_count": 232,
   "metadata": {},
   "outputs": [
    {
     "data": {
      "text/html": [
       "<html><script type=\"math/tex; mode=display\">\\newcommand{\\Bold}[1]{\\mathbf{#1}}\\left(2,\\,1\\right)</script></html>"
      ],
      "text/plain": [
       "(2, 1)"
      ]
     },
     "metadata": {},
     "output_type": "display_data"
    }
   ],
   "source": [
    "v = vector([2, 1])\n",
    "show(v)"
   ]
  },
  {
   "cell_type": "code",
   "execution_count": 233,
   "metadata": {},
   "outputs": [
    {
     "data": {
      "text/html": [
       "<html><script type=\"math/tex; mode=display\">\\newcommand{\\Bold}[1]{\\mathbf{#1}}\\left(2,\\,1,\\,1\\right)</script></html>"
      ],
      "text/plain": [
       "(2, 1, 1)"
      ]
     },
     "metadata": {},
     "output_type": "display_data"
    }
   ],
   "source": [
    "V = vector([2, 1, 1])\n",
    "show (V)"
   ]
  },
  {
   "cell_type": "markdown",
   "metadata": {},
   "source": [
    "_(b)_: Translation of one unit to the right"
   ]
  },
  {
   "cell_type": "code",
   "execution_count": 249,
   "metadata": {
    "scrolled": true
   },
   "outputs": [
    {
     "data": {
      "text/html": [
       "<html><script type=\"math/tex; mode=display\">\\newcommand{\\Bold}[1]{\\mathbf{#1}}\\left(\\begin{array}{rr}\n",
       "1 & 0 \\\\\n",
       "0 & 1 \\\\\n",
       "0 & 0\n",
       "\\end{array}\\right)</script></html>"
      ],
      "text/plain": [
       "[1 0]\n",
       "[0 1]\n",
       "[0 0]"
      ]
     },
     "metadata": {},
     "output_type": "display_data"
    }
   ],
   "source": [
    "M_A = matrix(QQ, 3, 2, [1, 0, 0, 1, 0, 0])\n",
    "show(M_A)"
   ]
  },
  {
   "cell_type": "code",
   "execution_count": 250,
   "metadata": {},
   "outputs": [
    {
     "data": {
      "text/html": [
       "<html><script type=\"math/tex; mode=display\">\\newcommand{\\Bold}[1]{\\mathbf{#1}}\\left(1,\\,0,\\,1\\right)</script></html>"
      ],
      "text/plain": [
       "(1, 0, 1)"
      ]
     },
     "metadata": {},
     "output_type": "display_data"
    }
   ],
   "source": [
    "M_b = vector([1, 0, 1])\n",
    "show(M_b)"
   ]
  },
  {
   "cell_type": "code",
   "execution_count": 251,
   "metadata": {},
   "outputs": [
    {
     "data": {
      "text/html": [
       "<html><script type=\"math/tex; mode=display\">\\newcommand{\\Bold}[1]{\\mathbf{#1}}\\left(\\begin{array}{rrr}\n",
       "1 & 0 & 1 \\\\\n",
       "0 & 1 & 0 \\\\\n",
       "0 & 0 & 1\n",
       "\\end{array}\\right)</script></html>"
      ],
      "text/plain": [
       "[1 0 1]\n",
       "[0 1 0]\n",
       "[0 0 1]"
      ]
     },
     "metadata": {},
     "output_type": "display_data"
    }
   ],
   "source": [
    "M = M_A.augment(M_b)\n",
    "show(M)"
   ]
  },
  {
   "cell_type": "code",
   "execution_count": 252,
   "metadata": {
    "scrolled": false
   },
   "outputs": [
    {
     "data": {
      "text/html": [
       "<html><script type=\"math/tex; mode=display\">\\newcommand{\\Bold}[1]{\\mathbf{#1}}\\left(3,\\,1,\\,1\\right)</script></html>"
      ],
      "text/plain": [
       "(3, 1, 1)"
      ]
     },
     "metadata": {},
     "output_type": "display_data"
    }
   ],
   "source": [
    "show(M*V)"
   ]
  },
  {
   "cell_type": "code",
   "execution_count": 122,
   "metadata": {},
   "outputs": [
    {
     "data": {
      "text/html": [
       "\n",
       "<iframe srcdoc=\"\n",
       "<html>\n",
       "<head>\n",
       "  <style>\n",
       "    * {\n",
       "      margin: 0;\n",
       "      padding: 0;\n",
       "      overflow: hidden;\n",
       "    }\n",
       "    body, html {      \n",
       "      height: 100%;\n",
       "      width: 100%;\n",
       "    }\n",
       "  </style>\n",
       "  <script type=&quot;text/javascript&quot; src=&quot;/nbextensions/jsmol/JSmol.min.js&quot;></script>\n",
       "</head>\n",
       "<body>\n",
       "  <script type=&quot;text/javascript&quot;>\n",
       "    var script = [\n",
       "  'data &quot;model list&quot;',\n",
       "  '10',\n",
       "  'empty',\n",
       "  'Xx -3.0 -4.0 -3.0',\n",
       "  'Xx 0.0 -4.0 -3.0',\n",
       "  'Xx 3.0 -4.0 -3.0',\n",
       "  'Xx 4.0 -3.0 -3.0',\n",
       "  'Xx 4.0 0.0 -3.0',\n",
       "  'Xx 4.0 3.0 -3.0',\n",
       "  'Xx -4.0 -3.0 -3.0',\n",
       "  'Xx -4.0 -3.0 0.0',\n",
       "  'Xx -4.0 -3.0 3.0',\n",
       "  'Xx 5.5 5.5 5.5',\n",
       "  'end &quot;model list&quot;; show data',\n",
       "  'select *',\n",
       "  'wireframe off; spacefill off',\n",
       "  'set labelOffset 0 0',\n",
       "  'background [255,255,255]',\n",
       "  'spin OFF',\n",
       "  'moveto 0 -764 -346 -545 76.39',\n",
       "  'centerAt absolute {0 0 0}',\n",
       "  'zoom 100',\n",
       "  'frank OFF',\n",
       "  'set perspectivedepth ON',\n",
       "  'draw line_1 diameter 1 arrow {3.0 -3.0 -3.0}  {-3.0 3.0 3.0} ',\n",
       "  'color $line_1  [102,102,255]',\n",
       "  'draw line_2 diameter 1 curve {-3.0 -3.0 -3.0}  {-3.0 3.0 -3.0} ',\n",
       "  'color $line_2 translucent 0.5 [0,0,0]',\n",
       "  'draw line_3 diameter 1 curve {-3.0 3.0 -3.0}  {3.0 3.0 -3.0} ',\n",
       "  'color $line_3 translucent 0.5 [0,0,0]',\n",
       "  'draw line_4 diameter 1 curve {3.0 3.0 -3.0}  {3.0 -3.0 -3.0} ',\n",
       "  'color $line_4 translucent 0.5 [0,0,0]',\n",
       "  'draw line_5 diameter 1 curve {3.0 -3.0 -3.0}  {-3.0 -3.0 -3.0} ',\n",
       "  'color $line_5 translucent 0.5 [0,0,0]',\n",
       "  'draw line_6 diameter 1 curve {-3.0 -3.0 -3.0}  {-3.0 -3.0 3.0} ',\n",
       "  'color $line_6 translucent 0.5 [0,0,0]',\n",
       "  'draw line_7 diameter 1 curve {-3.0 -3.0 3.0}  {-3.0 3.0 3.0} ',\n",
       "  'color $line_7 translucent 0.5 [0,0,0]',\n",
       "  'draw line_8 diameter 1 curve {-3.0 3.0 3.0}  {3.0 3.0 3.0} ',\n",
       "  'color $line_8 translucent 0.5 [0,0,0]',\n",
       "  'draw line_9 diameter 1 curve {3.0 3.0 3.0}  {3.0 -3.0 3.0} ',\n",
       "  'color $line_9 translucent 0.5 [0,0,0]',\n",
       "  'draw line_10 diameter 1 curve {3.0 -3.0 3.0}  {-3.0 -3.0 3.0} ',\n",
       "  'color $line_10 translucent 0.5 [0,0,0]',\n",
       "  'draw line_11 diameter 1 curve {-3.0 -3.0 3.0} ',\n",
       "  'color $line_11 translucent 0.5 [0,0,0]',\n",
       "  'draw line_12 diameter 1 curve {-3.0 3.0 -3.0}  {-3.0 3.0 3.0} ',\n",
       "  'color $line_12 translucent 0.5 [0,0,0]',\n",
       "  'draw line_13 diameter 1 curve {3.0 -3.0 -3.0}  {3.0 -3.0 3.0} ',\n",
       "  'color $line_13 translucent 0.5 [0,0,0]',\n",
       "  'draw line_14 diameter 1 curve {3.0 3.0 -3.0}  {3.0 3.0 3.0} ',\n",
       "  'color $line_14 translucent 0.5 [0,0,0]',\n",
       "  'select atomno = 1',\n",
       "  'color atom  [76,76,76]',\n",
       "  'label &quot;-1.00&quot;',\n",
       "  'select atomno = 2',\n",
       "  'color atom  [76,76,76]',\n",
       "  'label &quot;-0.50&quot;',\n",
       "  'select atomno = 3',\n",
       "  'color atom  [76,76,76]',\n",
       "  'label &quot;0.00&quot;',\n",
       "  'select atomno = 4',\n",
       "  'color atom  [76,76,76]',\n",
       "  'label &quot;0.0&quot;',\n",
       "  'select atomno = 5',\n",
       "  'color atom  [76,76,76]',\n",
       "  'label &quot;1.0&quot;',\n",
       "  'select atomno = 6',\n",
       "  'color atom  [76,76,76]',\n",
       "  'label &quot;2.0&quot;',\n",
       "  'select atomno = 7',\n",
       "  'color atom  [76,76,76]',\n",
       "  'label &quot;0.00&quot;',\n",
       "  'select atomno = 8',\n",
       "  'color atom  [76,76,76]',\n",
       "  'label &quot;0.50&quot;',\n",
       "  'select atomno = 9',\n",
       "  'color atom  [76,76,76]',\n",
       "  'label &quot;1.00&quot;',\n",
       "  'isosurface fullylit; pmesh o* fullylit; set antialiasdisplay on;',\n",
       "].join('\\n');;\n",
       "    var Info = {\n",
       "      width: '100%',\n",
       "      height: '500',\n",
       "      debug: false,\n",
       "      disableInitialConsole: true,   // very slow when used with inline mesh\n",
       "      color: '#3131ff',\n",
       "      addSelectionOptions: false,\n",
       "      use: 'HTML5',\n",
       "      j2sPath: '/nbextensions/jsmol/j2s',\n",
       "      script: script,\n",
       "    };\n",
       "    var jmolApplet0 = Jmol.getApplet('jmolApplet0', Info);\n",
       "  </script>\n",
       "</body>\n",
       "</html>\n",
       "\" \n",
       "        width=\"100%\"\n",
       "        height=\"500\"\n",
       "        style=\"border: 0;\">\n",
       "</iframe>\n"
      ],
      "text/plain": [
       "Graphics3d Object"
      ]
     },
     "execution_count": 122,
     "metadata": {},
     "output_type": "execute_result"
    }
   ],
   "source": [
    "plot(M*V)"
   ]
  },
  {
   "cell_type": "markdown",
   "metadata": {},
   "source": [
    "_(c)_: Rotation by 90 degrees counterclockwise and translation up by one unit "
   ]
  },
  {
   "cell_type": "code",
   "execution_count": 253,
   "metadata": {
    "scrolled": true
   },
   "outputs": [
    {
     "data": {
      "text/html": [
       "<html><script type=\"math/tex; mode=display\">\\newcommand{\\Bold}[1]{\\mathbf{#1}}\\left(\\begin{array}{rr}\n",
       "0 & -1 \\\\\n",
       "1 & 0 \\\\\n",
       "0 & 0\n",
       "\\end{array}\\right)</script></html>"
      ],
      "text/plain": [
       "[ 0 -1]\n",
       "[ 1  0]\n",
       "[ 0  0]"
      ]
     },
     "metadata": {},
     "output_type": "display_data"
    }
   ],
   "source": [
    "M_A = matrix(QQ, 3, 2, [0, -1, 1, 0, 0, 0])\n",
    "show(M_A)"
   ]
  },
  {
   "cell_type": "code",
   "execution_count": 254,
   "metadata": {},
   "outputs": [
    {
     "data": {
      "text/html": [
       "<html><script type=\"math/tex; mode=display\">\\newcommand{\\Bold}[1]{\\mathbf{#1}}\\left(0,\\,1,\\,1\\right)</script></html>"
      ],
      "text/plain": [
       "(0, 1, 1)"
      ]
     },
     "metadata": {},
     "output_type": "display_data"
    }
   ],
   "source": [
    "M_b = vector([0, 1, 1])\n",
    "show(M_b)"
   ]
  },
  {
   "cell_type": "code",
   "execution_count": 255,
   "metadata": {},
   "outputs": [
    {
     "data": {
      "text/html": [
       "<html><script type=\"math/tex; mode=display\">\\newcommand{\\Bold}[1]{\\mathbf{#1}}\\left(\\begin{array}{rrr}\n",
       "0 & -1 & 0 \\\\\n",
       "1 & 0 & 1 \\\\\n",
       "0 & 0 & 1\n",
       "\\end{array}\\right)</script></html>"
      ],
      "text/plain": [
       "[ 0 -1  0]\n",
       "[ 1  0  1]\n",
       "[ 0  0  1]"
      ]
     },
     "metadata": {},
     "output_type": "display_data"
    }
   ],
   "source": [
    "M = M_A.augment(M_b)\n",
    "show(M)"
   ]
  },
  {
   "cell_type": "code",
   "execution_count": 256,
   "metadata": {
    "scrolled": false
   },
   "outputs": [
    {
     "data": {
      "text/html": [
       "<html><script type=\"math/tex; mode=display\">\\newcommand{\\Bold}[1]{\\mathbf{#1}}\\left(-1,\\,3,\\,1\\right)</script></html>"
      ],
      "text/plain": [
       "(-1, 3, 1)"
      ]
     },
     "metadata": {},
     "output_type": "display_data"
    }
   ],
   "source": [
    "show(M*V)"
   ]
  },
  {
   "cell_type": "code",
   "execution_count": 100,
   "metadata": {},
   "outputs": [
    {
     "data": {
      "text/html": [
       "\n",
       "<iframe srcdoc=\"\n",
       "<html>\n",
       "<head>\n",
       "  <style>\n",
       "    * {\n",
       "      margin: 0;\n",
       "      padding: 0;\n",
       "      overflow: hidden;\n",
       "    }\n",
       "    body, html {      \n",
       "      height: 100%;\n",
       "      width: 100%;\n",
       "    }\n",
       "  </style>\n",
       "  <script type=&quot;text/javascript&quot; src=&quot;/nbextensions/jsmol/JSmol.min.js&quot;></script>\n",
       "</head>\n",
       "<body>\n",
       "  <script type=&quot;text/javascript&quot;>\n",
       "    var script = [\n",
       "  'data &quot;model list&quot;',\n",
       "  '10',\n",
       "  'empty',\n",
       "  'Xx -3.0 -4.0 -3.0',\n",
       "  'Xx 0.0 -4.0 -3.0',\n",
       "  'Xx 3.0 -4.0 -3.0',\n",
       "  'Xx 4.0 -3.0 -3.0',\n",
       "  'Xx 4.0 0.0 -3.0',\n",
       "  'Xx 4.0 3.0 -3.0',\n",
       "  'Xx -4.0 -3.0 -3.0',\n",
       "  'Xx -4.0 -3.0 0.0',\n",
       "  'Xx -4.0 -3.0 3.0',\n",
       "  'Xx 5.5 5.5 5.5',\n",
       "  'end &quot;model list&quot;; show data',\n",
       "  'select *',\n",
       "  'wireframe off; spacefill off',\n",
       "  'set labelOffset 0 0',\n",
       "  'background [255,255,255]',\n",
       "  'spin OFF',\n",
       "  'moveto 0 -764 -346 -545 76.39',\n",
       "  'centerAt absolute {0 0 0}',\n",
       "  'zoom 100',\n",
       "  'frank OFF',\n",
       "  'set perspectivedepth ON',\n",
       "  'draw line_1 diameter 1 arrow {-3.0 3.0 -3.0}  {3.0 -3.0 3.0} ',\n",
       "  'color $line_1  [102,102,255]',\n",
       "  'draw line_2 diameter 1 curve {-3.0 -3.0 -3.0}  {-3.0 3.0 -3.0} ',\n",
       "  'color $line_2 translucent 0.5 [0,0,0]',\n",
       "  'draw line_3 diameter 1 curve {-3.0 3.0 -3.0}  {3.0 3.0 -3.0} ',\n",
       "  'color $line_3 translucent 0.5 [0,0,0]',\n",
       "  'draw line_4 diameter 1 curve {3.0 3.0 -3.0}  {3.0 -3.0 -3.0} ',\n",
       "  'color $line_4 translucent 0.5 [0,0,0]',\n",
       "  'draw line_5 diameter 1 curve {3.0 -3.0 -3.0}  {-3.0 -3.0 -3.0} ',\n",
       "  'color $line_5 translucent 0.5 [0,0,0]',\n",
       "  'draw line_6 diameter 1 curve {-3.0 -3.0 -3.0}  {-3.0 -3.0 3.0} ',\n",
       "  'color $line_6 translucent 0.5 [0,0,0]',\n",
       "  'draw line_7 diameter 1 curve {-3.0 -3.0 3.0}  {-3.0 3.0 3.0} ',\n",
       "  'color $line_7 translucent 0.5 [0,0,0]',\n",
       "  'draw line_8 diameter 1 curve {-3.0 3.0 3.0}  {3.0 3.0 3.0} ',\n",
       "  'color $line_8 translucent 0.5 [0,0,0]',\n",
       "  'draw line_9 diameter 1 curve {3.0 3.0 3.0}  {3.0 -3.0 3.0} ',\n",
       "  'color $line_9 translucent 0.5 [0,0,0]',\n",
       "  'draw line_10 diameter 1 curve {3.0 -3.0 3.0}  {-3.0 -3.0 3.0} ',\n",
       "  'color $line_10 translucent 0.5 [0,0,0]',\n",
       "  'draw line_11 diameter 1 curve {-3.0 -3.0 3.0} ',\n",
       "  'color $line_11 translucent 0.5 [0,0,0]',\n",
       "  'draw line_12 diameter 1 curve {-3.0 3.0 -3.0}  {-3.0 3.0 3.0} ',\n",
       "  'color $line_12 translucent 0.5 [0,0,0]',\n",
       "  'draw line_13 diameter 1 curve {3.0 -3.0 -3.0}  {3.0 -3.0 3.0} ',\n",
       "  'color $line_13 translucent 0.5 [0,0,0]',\n",
       "  'draw line_14 diameter 1 curve {3.0 3.0 -3.0}  {3.0 3.0 3.0} ',\n",
       "  'color $line_14 translucent 0.5 [0,0,0]',\n",
       "  'select atomno = 1',\n",
       "  'color atom  [76,76,76]',\n",
       "  'label &quot;0.00&quot;',\n",
       "  'select atomno = 2',\n",
       "  'color atom  [76,76,76]',\n",
       "  'label &quot;0.50&quot;',\n",
       "  'select atomno = 3',\n",
       "  'color atom  [76,76,76]',\n",
       "  'label &quot;1.00&quot;',\n",
       "  'select atomno = 4',\n",
       "  'color atom  [76,76,76]',\n",
       "  'label &quot;-2.0&quot;',\n",
       "  'select atomno = 5',\n",
       "  'color atom  [76,76,76]',\n",
       "  'label &quot;-1.0&quot;',\n",
       "  'select atomno = 6',\n",
       "  'color atom  [76,76,76]',\n",
       "  'label &quot;0.0&quot;',\n",
       "  'select atomno = 7',\n",
       "  'color atom  [76,76,76]',\n",
       "  'label &quot;0.0&quot;',\n",
       "  'select atomno = 8',\n",
       "  'color atom  [76,76,76]',\n",
       "  'label &quot;1.0&quot;',\n",
       "  'select atomno = 9',\n",
       "  'color atom  [76,76,76]',\n",
       "  'label &quot;2.0&quot;',\n",
       "  'isosurface fullylit; pmesh o* fullylit; set antialiasdisplay on;',\n",
       "].join('\\n');;\n",
       "    var Info = {\n",
       "      width: '100%',\n",
       "      height: '500',\n",
       "      debug: false,\n",
       "      disableInitialConsole: true,   // very slow when used with inline mesh\n",
       "      color: '#3131ff',\n",
       "      addSelectionOptions: false,\n",
       "      use: 'HTML5',\n",
       "      j2sPath: '/nbextensions/jsmol/j2s',\n",
       "      script: script,\n",
       "    };\n",
       "    var jmolApplet0 = Jmol.getApplet('jmolApplet0', Info);\n",
       "  </script>\n",
       "</body>\n",
       "</html>\n",
       "\" \n",
       "        width=\"100%\"\n",
       "        height=\"500\"\n",
       "        style=\"border: 0;\">\n",
       "</iframe>\n"
      ],
      "text/plain": [
       "Graphics3d Object"
      ]
     },
     "execution_count": 100,
     "metadata": {},
     "output_type": "execute_result"
    }
   ],
   "source": [
    "plot(M*V)"
   ]
  },
  {
   "cell_type": "markdown",
   "metadata": {},
   "source": [
    "_(d)_: Translation by one unit up first and rotation by 90 degrees counterclockwise"
   ]
  },
  {
   "cell_type": "code",
   "execution_count": 257,
   "metadata": {
    "scrolled": true
   },
   "outputs": [
    {
     "data": {
      "text/html": [
       "<html><script type=\"math/tex; mode=display\">\\newcommand{\\Bold}[1]{\\mathbf{#1}}\\left(\\begin{array}{rr}\n",
       "0 & -1 \\\\\n",
       "1 & 0 \\\\\n",
       "0 & 0\n",
       "\\end{array}\\right)</script></html>"
      ],
      "text/plain": [
       "[ 0 -1]\n",
       "[ 1  0]\n",
       "[ 0  0]"
      ]
     },
     "metadata": {},
     "output_type": "display_data"
    }
   ],
   "source": [
    "M_A = matrix(QQ, 3, 2, [0, -1, 1, 0, 0, 0])\n",
    "show(M_A)"
   ]
  },
  {
   "cell_type": "code",
   "execution_count": 258,
   "metadata": {},
   "outputs": [
    {
     "data": {
      "text/html": [
       "<html><script type=\"math/tex; mode=display\">\\newcommand{\\Bold}[1]{\\mathbf{#1}}\\left(-1,\\,0,\\,1\\right)</script></html>"
      ],
      "text/plain": [
       "(-1, 0, 1)"
      ]
     },
     "metadata": {},
     "output_type": "display_data"
    }
   ],
   "source": [
    "M_b = vector([-1, 0, 1])\n",
    "show(M_b)"
   ]
  },
  {
   "cell_type": "code",
   "execution_count": 259,
   "metadata": {},
   "outputs": [
    {
     "data": {
      "text/html": [
       "<html><script type=\"math/tex; mode=display\">\\newcommand{\\Bold}[1]{\\mathbf{#1}}\\left(\\begin{array}{rrr}\n",
       "0 & -1 & -1 \\\\\n",
       "1 & 0 & 0 \\\\\n",
       "0 & 0 & 1\n",
       "\\end{array}\\right)</script></html>"
      ],
      "text/plain": [
       "[ 0 -1 -1]\n",
       "[ 1  0  0]\n",
       "[ 0  0  1]"
      ]
     },
     "metadata": {},
     "output_type": "display_data"
    }
   ],
   "source": [
    "M = M_A.augment(M_b)\n",
    "show(M)"
   ]
  },
  {
   "cell_type": "code",
   "execution_count": 260,
   "metadata": {
    "scrolled": false
   },
   "outputs": [
    {
     "data": {
      "text/html": [
       "<html><script type=\"math/tex; mode=display\">\\newcommand{\\Bold}[1]{\\mathbf{#1}}\\left(-2,\\,2,\\,1\\right)</script></html>"
      ],
      "text/plain": [
       "(-2, 2, 1)"
      ]
     },
     "metadata": {},
     "output_type": "display_data"
    }
   ],
   "source": [
    "show(M*V)"
   ]
  },
  {
   "cell_type": "markdown",
   "metadata": {},
   "source": [
    "# Archive"
   ]
  },
  {
   "cell_type": "markdown",
   "metadata": {},
   "source": [
    "First, an upwards translation by one unit, \n",
    "\n",
    "through A, as we have the form Av + b (multiplication by comes first):"
   ]
  },
  {
   "cell_type": "markdown",
   "metadata": {},
   "source": [
    "< 2, 1 > + < 1, 0 > = < 3, 1> = _A_ < 2, 1>"
   ]
  },
  {
   "cell_type": "markdown",
   "metadata": {},
   "source": [
    "For this to be satisfied, _A_ must equal: "
   ]
  },
  {
   "cell_type": "code",
   "execution_count": 37,
   "metadata": {
    "scrolled": true
   },
   "outputs": [
    {
     "data": {
      "text/html": [
       "<html><script type=\"math/tex; mode=display\">\\newcommand{\\Bold}[1]{\\mathbf{#1}}\\left(\\begin{array}{rr}\n",
       "1 & 1 \\\\\n",
       "0 & 1\n",
       "\\end{array}\\right)</script></html>"
      ],
      "text/plain": [
       "[1 1]\n",
       "[0 1]"
      ]
     },
     "metadata": {},
     "output_type": "display_data"
    }
   ],
   "source": [
    "A = matrix(QQ, 2, 2, [1, 1, 0, 1])\n",
    "show(A)"
   ]
  },
  {
   "cell_type": "code",
   "execution_count": 38,
   "metadata": {},
   "outputs": [
    {
     "data": {
      "text/html": [
       "<html><script type=\"math/tex; mode=display\">\\newcommand{\\Bold}[1]{\\mathbf{#1}}\\left(0,\\,0\\right)</script></html>"
      ],
      "text/plain": [
       "(0, 0)"
      ]
     },
     "metadata": {},
     "output_type": "display_data"
    },
    {
     "data": {
      "text/html": [
       "<html><script type=\"math/tex; mode=display\">\\newcommand{\\Bold}[1]{\\mathbf{#1}}\\left(2,\\,1\\right)</script></html>"
      ],
      "text/plain": [
       "(2, 1)"
      ]
     },
     "metadata": {},
     "output_type": "display_data"
    },
    {
     "data": {
      "text/html": [
       "<html><script type=\"math/tex; mode=display\">\\newcommand{\\Bold}[1]{\\mathbf{#1}}\\left(2,\\,1\\right)</script></html>"
      ],
      "text/plain": [
       "(2, 1)"
      ]
     },
     "metadata": {},
     "output_type": "display_data"
    },
    {
     "data": {
      "image/png": "[encoded data removed]",
      "text/plain": [
       "Graphics object consisting of 1 graphics primitive"
      ]
     },
     "metadata": {},
     "output_type": "display_data"
    }
   ],
   "source": [
    "v_start = vector([0, 0])\n",
    "v_end = vector([2, 1])\n",
    "v = v_end - v_start\n",
    "show(v_start)\n",
    "show(v_end)\n",
    "show(v)\n",
    "v_line = line([v_start, v_end])\n",
    "show(v_line)"
   ]
  },
  {
   "cell_type": "code",
   "execution_count": 39,
   "metadata": {
    "scrolled": false
   },
   "outputs": [
    {
     "data": {
      "text/html": [
       "<html><script type=\"math/tex; mode=display\">\\newcommand{\\Bold}[1]{\\mathbf{#1}}\\left(0,\\,0\\right)</script></html>"
      ],
      "text/plain": [
       "(0, 0)"
      ]
     },
     "metadata": {},
     "output_type": "display_data"
    },
    {
     "data": {
      "text/html": [
       "<html><script type=\"math/tex; mode=display\">\\newcommand{\\Bold}[1]{\\mathbf{#1}}\\left(3,\\,1\\right)</script></html>"
      ],
      "text/plain": [
       "(3, 1)"
      ]
     },
     "metadata": {},
     "output_type": "display_data"
    },
    {
     "data": {
      "text/html": [
       "<html><script type=\"math/tex; mode=display\">\\newcommand{\\Bold}[1]{\\mathbf{#1}}\\left(3,\\,1\\right)</script></html>"
      ],
      "text/plain": [
       "(3, 1)"
      ]
     },
     "metadata": {},
     "output_type": "display_data"
    },
    {
     "data": {
      "image/png": "[encoded data removed]",
      "text/plain": [
       "Graphics object consisting of 2 graphics primitives"
      ]
     },
     "metadata": {},
     "output_type": "display_data"
    }
   ],
   "source": [
    "tr1_start = A*(v_start)\n",
    "show(tr1_start)\n",
    "tr1_end = A*(v_end)\n",
    "show(tr1_end)\n",
    "tr1_v = tr1_end - tr1_start\n",
    "show(tr1_v)\n",
    "tr1_line = line([(tr1_start), tr1_end], color='red')\n",
    "# tr1_line = line([(0,0), (3,0)], color='red', )\n",
    "show(tr1_line + v_line)"
   ]
  },
  {
   "cell_type": "markdown",
   "metadata": {},
   "source": [
    "Now, a rotation by 90 degrees counterclockwise:"
   ]
  },
  {
   "cell_type": "markdown",
   "metadata": {},
   "source": [
    "< 3, 1 > + _b = A_ < 2, 1 > + _b_ = < -1, 2 >"
   ]
  },
  {
   "cell_type": "markdown",
   "metadata": {},
   "source": [
    "< 3, 1 > + _b = A_ < 2, 1 > + _b_ = < -1, 3 >"
   ]
  },
  {
   "cell_type": "markdown",
   "metadata": {},
   "source": [
    "when _A_ is the matrix defined above as:"
   ]
  },
  {
   "cell_type": "code",
   "execution_count": 41,
   "metadata": {},
   "outputs": [
    {
     "data": {
      "text/html": [
       "<html><script type=\"math/tex; mode=display\">\\newcommand{\\Bold}[1]{\\mathbf{#1}}\\left(\\begin{array}{rr}\n",
       "1 & 1 \\\\\n",
       "0 & 1\n",
       "\\end{array}\\right)</script></html>"
      ],
      "text/plain": [
       "[1 1]\n",
       "[0 1]"
      ]
     },
     "metadata": {},
     "output_type": "display_data"
    }
   ],
   "source": [
    "show(A)"
   ]
  },
  {
   "cell_type": "markdown",
   "metadata": {},
   "source": [
    "For this to be satisfied, _b_ must equal: "
   ]
  },
  {
   "cell_type": "code",
   "execution_count": 42,
   "metadata": {
    "scrolled": true
   },
   "outputs": [
    {
     "data": {
      "text/html": [
       "<html><script type=\"math/tex; mode=display\">\\newcommand{\\Bold}[1]{\\mathbf{#1}}\\left(-4,\\,1\\right)</script></html>"
      ],
      "text/plain": [
       "(-4, 1)"
      ]
     },
     "metadata": {},
     "output_type": "display_data"
    }
   ],
   "source": [
    "b = vector([-4, 1])\n",
    "show(b)"
   ]
  },
  {
   "cell_type": "code",
   "execution_count": 43,
   "metadata": {},
   "outputs": [
    {
     "data": {
      "text/html": [
       "<html><script type=\"math/tex; mode=display\">\\newcommand{\\Bold}[1]{\\mathbf{#1}}\\left(-4,\\,2\\right)</script></html>"
      ],
      "text/plain": [
       "(-4, 2)"
      ]
     },
     "metadata": {},
     "output_type": "display_data"
    }
   ],
   "source": [
    "b = vector([-4, 2])\n",
    "show(b)"
   ]
  },
  {
   "cell_type": "code",
   "execution_count": 44,
   "metadata": {
    "scrolled": false
   },
   "outputs": [
    {
     "data": {
      "text/html": [
       "<html><script type=\"math/tex; mode=display\">\\newcommand{\\Bold}[1]{\\mathbf{#1}}\\left(-4,\\,2\\right)</script></html>"
      ],
      "text/plain": [
       "(-4, 2)"
      ]
     },
     "metadata": {},
     "output_type": "display_data"
    },
    {
     "data": {
      "text/html": [
       "<html><script type=\"math/tex; mode=display\">\\newcommand{\\Bold}[1]{\\mathbf{#1}}\\left(-1,\\,3\\right)</script></html>"
      ],
      "text/plain": [
       "(-1, 3)"
      ]
     },
     "metadata": {},
     "output_type": "display_data"
    },
    {
     "data": {
      "text/html": [
       "<html><script type=\"math/tex; mode=display\">\\newcommand{\\Bold}[1]{\\mathbf{#1}}\\left(3,\\,1\\right)</script></html>"
      ],
      "text/plain": [
       "(3, 1)"
      ]
     },
     "metadata": {},
     "output_type": "display_data"
    },
    {
     "data": {
      "image/png": "[encoded data removed]",
      "text/plain": [
       "Graphics object consisting of 3 graphics primitives"
      ]
     },
     "metadata": {},
     "output_type": "display_data"
    }
   ],
   "source": [
    "tr_start = (tr1_start + b)\n",
    "show(tr_start)\n",
    "tr_end = (tr1_end + b)\n",
    "show(tr_end)\n",
    "tr_v = tr_end - tr_start\n",
    "show(tr_v)\n",
    "tr_line = line([(0,0), (1, 1)], color='orange')\n",
    "# show(tr_line)\n",
    "show(tr_line+tr1_line+v_line)"
   ]
  },
  {
   "cell_type": "code",
   "execution_count": null,
   "metadata": {},
   "outputs": [],
   "source": []
  }
 ],
 "metadata": {
  "kernelspec": {
   "display_name": "SageMath 8.8",
   "language": "sage",
   "name": "sagemath"
  },
  "language_info": {
   "codemirror_mode": {
    "name": "ipython",
    "version": 2
   },
   "file_extension": ".py",
   "mimetype": "text/x-python",
   "name": "python",
   "nbconvert_exporter": "python",
   "pygments_lexer": "ipython2",
   "version": "2.7.15"
  }
 },
 "nbformat": 4,
 "nbformat_minor": 2
}
